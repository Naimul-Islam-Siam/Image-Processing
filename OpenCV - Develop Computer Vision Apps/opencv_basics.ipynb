{
  "nbformat": 4,
  "nbformat_minor": 0,
  "metadata": {
    "colab": {
      "name": "opencv_basics.ipynb",
      "provenance": []
    },
    "kernelspec": {
      "name": "python3",
      "display_name": "Python 3"
    },
    "language_info": {
      "name": "python"
    }
  },
  "cells": [
    {
      "cell_type": "markdown",
      "metadata": {
        "id": "hrh35_4XdCHE"
      },
      "source": [
        "## OpenCV Basics"
      ]
    },
    {
      "cell_type": "markdown",
      "metadata": {
        "id": "KDtsSE6VdHoo"
      },
      "source": [
        "### 1. Changing Images Color Profile"
      ]
    },
    {
      "cell_type": "code",
      "metadata": {
        "id": "94omryMAdFqE"
      },
      "source": [
        "import cv2\n",
        "from google.colab.patches import cv2_imshow"
      ],
      "execution_count": 1,
      "outputs": []
    },
    {
      "cell_type": "code",
      "metadata": {
        "id": "3RkC6IMIdv4v"
      },
      "source": [
        "image = cv2.imread(\"https://raw.githubusercontent.com/misbah4064/opencvTutorial/main/images/color.jpg\")\n",
        "cv2_imshow(image)"
      ],
      "execution_count": null,
      "outputs": []
    },
    {
      "cell_type": "code",
      "metadata": {
        "id": "bFsgw4JUd07Y"
      },
      "source": [
        ""
      ],
      "execution_count": null,
      "outputs": []
    }
  ]
}