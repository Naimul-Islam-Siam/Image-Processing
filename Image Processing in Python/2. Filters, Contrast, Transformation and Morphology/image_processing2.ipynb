{
  "nbformat": 4,
  "nbformat_minor": 0,
  "metadata": {
    "colab": {
      "name": "image_processing2.ipynb",
      "provenance": [],
      "collapsed_sections": []
    },
    "kernelspec": {
      "name": "python3",
      "display_name": "Python 3"
    },
    "language_info": {
      "name": "python"
    }
  },
  "cells": [
    {
      "cell_type": "markdown",
      "metadata": {
        "id": "Vq4jFrEXzuLP"
      },
      "source": [
        "## Chapter 2 - Filters, Contrast, Transformation and Morphology"
      ]
    },
    {
      "cell_type": "markdown",
      "metadata": {
        "id": "eakjaZj70MVv"
      },
      "source": [
        "Detect object shapes using edge detection filters, improve medical images with contrast enhancement and even enlarge pictures to five times its original size!\n",
        "\n",
        "Apply morphology to make thresholding more accurate when segmenting images and go to the next level of processing images with Python."
      ]
    }
  ]
}